{
  "cells": [
    {
      "cell_type": "markdown",
      "metadata": {
        "id": "1fYyjDRh_Frt"
      },
      "source": [
        "# IoT·인공지능·빅데이터 개론 및 실습 (M2177.004900_001) <br> 3/8 Basics of Python, Numpy, and Matplotlib\n",
        "\n",
        "Adapted by Seonwoo Min from the IPython version of the `CS231n` Python tutorial (http://cs231n.github.io/python-numpy-tutorial/).\n",
        "\n",
        "In this excercise, we will cover:\n",
        "\n",
        "* Basic Python: List, Dictionary, Function, Class\n",
        "* Numpy: Array, Array indexing, Array math\n",
        "* Matplotlib: Plotting, Subplot\n",
        "\n",
        "\n",
        "Modified by Young Su Lee, 2022-01-24\n",
        "\n"
      ]
    },
    {
      "cell_type": "markdown",
      "source": [
        ""
      ],
      "metadata": {
        "id": "Jk7WC0GT1vHi"
      }
    },
    {
      "cell_type": "markdown",
      "source": [
        "## 0. Real Basic"
      ],
      "metadata": {
        "id": "kvGAw5xe_p17"
      }
    },
    {
      "cell_type": "code",
      "source": [
        "print (\"Hello world\")"
      ],
      "metadata": {
        "colab": {
          "base_uri": "https://localhost:8080/"
        },
        "id": "MrAALRjA_sDp",
        "outputId": "c7095794-46e5-4025-842c-2d251bfd3ae2"
      },
      "execution_count": 1,
      "outputs": [
        {
          "output_type": "stream",
          "name": "stdout",
          "text": [
            "Hello world\n"
          ]
        }
      ]
    },
    {
      "cell_type": "code",
      "source": [
        "print('Hello world')"
      ],
      "metadata": {
        "colab": {
          "base_uri": "https://localhost:8080/"
        },
        "id": "naAWKvDh_sQH",
        "outputId": "02ac852a-dc60-46bc-b2e2-bf0cf3438a58"
      },
      "execution_count": 2,
      "outputs": [
        {
          "output_type": "stream",
          "name": "stdout",
          "text": [
            "Hello world\n"
          ]
        }
      ]
    },
    {
      "cell_type": "code",
      "source": [
        "print('안녕하세요')\n",
        "print('안녕'+'하세요')"
      ],
      "metadata": {
        "colab": {
          "base_uri": "https://localhost:8080/"
        },
        "id": "iY-JAOMx11nF",
        "outputId": "d6a795bc-d4b7-4b28-c187-b3a072b4b023"
      },
      "execution_count": 3,
      "outputs": [
        {
          "output_type": "stream",
          "name": "stdout",
          "text": [
            "안녕하세요\n",
            "안녕하세요\n"
          ]
        }
      ]
    },
    {
      "cell_type": "code",
      "source": [
        "print('안녕\\n하세요') # '\\n': enter"
      ],
      "metadata": {
        "colab": {
          "base_uri": "https://localhost:8080/"
        },
        "id": "LP69gCp_19Gp",
        "outputId": "bd7c2bed-b7a6-4018-9f14-3584fed09243"
      },
      "execution_count": 4,
      "outputs": [
        {
          "output_type": "stream",
          "name": "stdout",
          "text": [
            "안녕\n",
            "하세요\n"
          ]
        }
      ]
    },
    {
      "cell_type": "code",
      "source": [
        "print (2+3)"
      ],
      "metadata": {
        "colab": {
          "base_uri": "https://localhost:8080/"
        },
        "id": "45Ui5brv_sVp",
        "outputId": "1d5b5c35-9992-446d-c324-517a6c08f42c"
      },
      "execution_count": 5,
      "outputs": [
        {
          "output_type": "stream",
          "name": "stdout",
          "text": [
            "5\n"
          ]
        }
      ]
    },
    {
      "cell_type": "code",
      "source": [
        "print(2+6)"
      ],
      "metadata": {
        "colab": {
          "base_uri": "https://localhost:8080/"
        },
        "id": "MOYxlLzD_0yr",
        "outputId": "e93b2b1b-defd-4f97-ff70-ddfb2a57757b"
      },
      "execution_count": 6,
      "outputs": [
        {
          "output_type": "stream",
          "name": "stdout",
          "text": [
            "8\n"
          ]
        }
      ]
    },
    {
      "cell_type": "code",
      "source": [
        "print(1/6)\n",
        "print(round(1/6, 2))"
      ],
      "metadata": {
        "colab": {
          "base_uri": "https://localhost:8080/"
        },
        "id": "-JOLKVKd_06K",
        "outputId": "28fdfc3c-8fb6-42de-d3ab-933359364dab"
      },
      "execution_count": 7,
      "outputs": [
        {
          "output_type": "stream",
          "name": "stdout",
          "text": [
            "0.16666666666666666\n",
            "0.17\n"
          ]
        }
      ]
    },
    {
      "cell_type": "code",
      "source": [
        "print(1e-06 * 1e04)"
      ],
      "metadata": {
        "colab": {
          "base_uri": "https://localhost:8080/"
        },
        "id": "zuBRqR5q_09o",
        "outputId": "0016c2b6-d66b-4ac5-8898-24271daf918e"
      },
      "execution_count": 8,
      "outputs": [
        {
          "output_type": "stream",
          "name": "stdout",
          "text": [
            "0.01\n"
          ]
        }
      ]
    },
    {
      "cell_type": "code",
      "source": [
        "a = 1\n",
        "print(a)"
      ],
      "metadata": {
        "colab": {
          "base_uri": "https://localhost:8080/"
        },
        "id": "5aam3HJ4_1AK",
        "outputId": "461a8f7d-fa13-426e-b114-9a5c8d6fac4a"
      },
      "execution_count": 9,
      "outputs": [
        {
          "output_type": "stream",
          "name": "stdout",
          "text": [
            "1\n"
          ]
        }
      ]
    },
    {
      "cell_type": "code",
      "source": [
        "print(a+1)"
      ],
      "metadata": {
        "colab": {
          "base_uri": "https://localhost:8080/"
        },
        "id": "IOfkRP8O_1Cw",
        "outputId": "84f1c33b-9417-4fc0-be8e-4520a5fe2bd1"
      },
      "execution_count": 10,
      "outputs": [
        {
          "output_type": "stream",
          "name": "stdout",
          "text": [
            "2\n"
          ]
        }
      ]
    },
    {
      "cell_type": "code",
      "source": [
        "a = a + 1\n",
        "print(a)"
      ],
      "metadata": {
        "colab": {
          "base_uri": "https://localhost:8080/"
        },
        "id": "3pj56qoZAC4f",
        "outputId": "2baf97e3-d1b9-4bf9-f597-75ba2a9d96de"
      },
      "execution_count": 11,
      "outputs": [
        {
          "output_type": "stream",
          "name": "stdout",
          "text": [
            "2\n"
          ]
        }
      ]
    },
    {
      "cell_type": "code",
      "source": [
        "print(type(a))"
      ],
      "metadata": {
        "colab": {
          "base_uri": "https://localhost:8080/"
        },
        "id": "Qfbe2y21_1FH",
        "outputId": "0575f089-16b2-453b-da36-945f49f67c79"
      },
      "execution_count": 12,
      "outputs": [
        {
          "output_type": "stream",
          "name": "stdout",
          "text": [
            "<class 'int'>\n"
          ]
        }
      ]
    },
    {
      "cell_type": "code",
      "source": [
        "a = 1.1\n",
        "print(type(a))"
      ],
      "metadata": {
        "colab": {
          "base_uri": "https://localhost:8080/"
        },
        "id": "FggLRCRGARdi",
        "outputId": "f92756a3-87f8-4cc3-af1a-cd9164382626"
      },
      "execution_count": 13,
      "outputs": [
        {
          "output_type": "stream",
          "name": "stdout",
          "text": [
            "<class 'float'>\n"
          ]
        }
      ]
    },
    {
      "cell_type": "code",
      "source": [
        "a = 'a'\n",
        "print(a)\n",
        "print(type(a))"
      ],
      "metadata": {
        "colab": {
          "base_uri": "https://localhost:8080/"
        },
        "id": "-oitHY1XARgG",
        "outputId": "82244eac-bf15-4066-f209-0490f7b15774"
      },
      "execution_count": 14,
      "outputs": [
        {
          "output_type": "stream",
          "name": "stdout",
          "text": [
            "a\n",
            "<class 'str'>\n"
          ]
        }
      ]
    },
    {
      "cell_type": "code",
      "source": [
        "print(a,'=',1)\n",
        "print(1,2,3,'a','b','c')"
      ],
      "metadata": {
        "colab": {
          "base_uri": "https://localhost:8080/"
        },
        "id": "IZnEKmLbARk8",
        "outputId": "89881761-27bd-404a-e21d-e0463250c173"
      },
      "execution_count": 15,
      "outputs": [
        {
          "output_type": "stream",
          "name": "stdout",
          "text": [
            "a = 1\n",
            "1 2 3 a b c\n"
          ]
        }
      ]
    },
    {
      "cell_type": "code",
      "source": [
        "a = 1\n",
        "b = 2\n",
        "a = 2\n",
        "print( a + b)"
      ],
      "metadata": {
        "colab": {
          "base_uri": "https://localhost:8080/"
        },
        "id": "HrolcG8EAqVF",
        "outputId": "7d65fcaf-2f41-4469-9c5d-5758fcaad6d1"
      },
      "execution_count": 16,
      "outputs": [
        {
          "output_type": "stream",
          "name": "stdout",
          "text": [
            "4\n"
          ]
        }
      ]
    },
    {
      "cell_type": "code",
      "source": [
        "# Formatting print\n",
        "\n",
        "y = 35\n",
        "print('My age is', y)\n",
        "print('My age is {}'.format(y))\n",
        "\n",
        "name = 'Young Su Lee'\n",
        "print('My name is {} and I am {} years old'.format(name, y))"
      ],
      "metadata": {
        "id": "_mDppWkrAxy2",
        "colab": {
          "base_uri": "https://localhost:8080/"
        },
        "outputId": "a3602483-8316-4e5a-88fc-16cb60e66663"
      },
      "execution_count": 17,
      "outputs": [
        {
          "output_type": "stream",
          "name": "stdout",
          "text": [
            "My age is 35\n",
            "My age is 35\n",
            "My name is Young Su Lee and I am 35 years old\n"
          ]
        }
      ]
    },
    {
      "cell_type": "markdown",
      "metadata": {
        "id": "a0iS2Ofr_Frw"
      },
      "source": [
        "## 1. Basic Python"
      ]
    },
    {
      "cell_type": "markdown",
      "metadata": {
        "id": "5wEpDoij_Frw"
      },
      "source": [
        "### List\n",
        "A list is the Python equivalent of an array, but is resizeable and can contain elements of different types"
      ]
    },
    {
      "cell_type": "code",
      "execution_count": 88,
      "metadata": {
        "colab": {
          "base_uri": "https://localhost:8080/"
        },
        "id": "r9aDIXR2_Frw",
        "outputId": "61ec8a2c-d9a4-413e-ec23-2a2085b007b2"
      },
      "outputs": [
        {
          "output_type": "stream",
          "name": "stdout",
          "text": [
            "3\n",
            "1\n",
            "2\n",
            "2\n",
            "1\n"
          ]
        }
      ],
      "source": [
        "#############################################################\n",
        "# General Usage\n",
        "#############################################################\n",
        "xs = [3, 1, 2]\n",
        "\n",
        "print(xs[0])\n",
        "print(xs[1])\n",
        "\n",
        "# Print the last indice\n",
        "print(xs[2])\n",
        "# Negative indices count from the end of the list\n",
        "print(xs[-1])\n",
        "\n",
        "print(xs[-2])"
      ]
    },
    {
      "cell_type": "code",
      "source": [
        "# ???\n",
        "print(xs[5])"
      ],
      "metadata": {
        "colab": {
          "base_uri": "https://localhost:8080/",
          "height": 195
        },
        "id": "e81KOIl730po",
        "outputId": "180060b9-efb9-4bb7-8cac-e95a6e072e94"
      },
      "execution_count": 85,
      "outputs": [
        {
          "output_type": "error",
          "ename": "IndexError",
          "evalue": "ignored",
          "traceback": [
            "\u001b[0;31m---------------------------------------------------------------------------\u001b[0m",
            "\u001b[0;31mIndexError\u001b[0m                                Traceback (most recent call last)",
            "\u001b[0;32m<ipython-input-85-b41556a87af1>\u001b[0m in \u001b[0;36m<module>\u001b[0;34m()\u001b[0m\n\u001b[1;32m      1\u001b[0m \u001b[0;31m# ???\u001b[0m\u001b[0;34m\u001b[0m\u001b[0;34m\u001b[0m\u001b[0;34m\u001b[0m\u001b[0m\n\u001b[0;32m----> 2\u001b[0;31m \u001b[0mprint\u001b[0m\u001b[0;34m(\u001b[0m\u001b[0mxs\u001b[0m\u001b[0;34m[\u001b[0m\u001b[0;36m5\u001b[0m\u001b[0;34m]\u001b[0m\u001b[0;34m)\u001b[0m\u001b[0;34m\u001b[0m\u001b[0;34m\u001b[0m\u001b[0m\n\u001b[0m",
            "\u001b[0;31mIndexError\u001b[0m: list index out of range"
          ]
        }
      ]
    },
    {
      "cell_type": "code",
      "execution_count": 19,
      "metadata": {
        "colab": {
          "base_uri": "https://localhost:8080/"
        },
        "id": "g4XDbuxK_Frx",
        "outputId": "a194b71a-2c10-4f6f-efe5-a973934b70ef"
      },
      "outputs": [
        {
          "output_type": "stream",
          "name": "stdout",
          "text": [
            "[3, 1, 2, 'bar']\n"
          ]
        }
      ],
      "source": [
        "# Add a new element to the end of the list\n",
        "xs.append('bar') \n",
        "print(xs)"
      ]
    },
    {
      "cell_type": "code",
      "execution_count": 20,
      "metadata": {
        "id": "yssSYUnX_Fry",
        "outputId": "3969b490-ad99-4ded-a4c9-352c1446e29b",
        "colab": {
          "base_uri": "https://localhost:8080/"
        }
      },
      "outputs": [
        {
          "output_type": "stream",
          "name": "stdout",
          "text": [
            "bar [3, 1, 2]\n"
          ]
        }
      ],
      "source": [
        "# Remove and return the last element of the list\n",
        "x = xs.pop()    \n",
        "print(x, xs)"
      ]
    },
    {
      "cell_type": "code",
      "execution_count": 21,
      "metadata": {
        "id": "x_SCb6nq_Fry",
        "outputId": "e36f8223-1493-4f16-ecac-6947b77522ed",
        "colab": {
          "base_uri": "https://localhost:8080/"
        }
      },
      "outputs": [
        {
          "output_type": "stream",
          "name": "stdout",
          "text": [
            "[0, 1, 2, 3, 4]\n"
          ]
        }
      ],
      "source": [
        "#############################################################\n",
        "# Slicing\n",
        "#############################################################\n",
        "# Create a list containing [0, 1, 2, 3, 4, 5]\n",
        "# range is a built-in function that creates a list of integers\n",
        "nums = list(range(5))    \n",
        "print(nums)"
      ]
    },
    {
      "cell_type": "code",
      "source": [
        "nums2 = [list(range(1,10,2))]\n",
        "print(nums2)"
      ],
      "metadata": {
        "colab": {
          "base_uri": "https://localhost:8080/"
        },
        "id": "HeQHJPL94LjC",
        "outputId": "deb3450d-4ac7-4163-ec42-6a5003185b33"
      },
      "execution_count": 94,
      "outputs": [
        {
          "output_type": "stream",
          "name": "stdout",
          "text": [
            "[[1, 3, 5, 7, 9]]\n"
          ]
        }
      ]
    },
    {
      "cell_type": "code",
      "execution_count": 95,
      "metadata": {
        "scrolled": true,
        "id": "6SXcm6tv_Frz",
        "outputId": "281f8404-1993-45be-c1e2-31ccd42e2139",
        "colab": {
          "base_uri": "https://localhost:8080/"
        }
      },
      "outputs": [
        {
          "output_type": "stream",
          "name": "stdout",
          "text": [
            "[2, 3]\n"
          ]
        }
      ],
      "source": [
        "# Get a slice from index 2 to 4 (exclusive); prints \"[2, 3]\"\n",
        "print(nums[2:4])"
      ]
    },
    {
      "cell_type": "code",
      "execution_count": 96,
      "metadata": {
        "id": "aDXni9k4_Frz",
        "outputId": "767c472d-90e5-4775-8411-0f1db70379e5",
        "colab": {
          "base_uri": "https://localhost:8080/"
        }
      },
      "outputs": [
        {
          "output_type": "stream",
          "name": "stdout",
          "text": [
            "[2, 3, 4]\n"
          ]
        }
      ],
      "source": [
        "# Get a slice from index 2 to the end; prints \"[2, 3, 4]\"\n",
        "print(nums[2:])"
      ]
    },
    {
      "cell_type": "code",
      "execution_count": 97,
      "metadata": {
        "id": "kgc2FBTg_Fr0",
        "outputId": "2332f2e3-f6d4-463a-e24f-fdc536039a18",
        "colab": {
          "base_uri": "https://localhost:8080/"
        }
      },
      "outputs": [
        {
          "output_type": "stream",
          "name": "stdout",
          "text": [
            "[0, 1]\n"
          ]
        }
      ],
      "source": [
        "# Get a slice from the start to index 2 (exclusive); prints \"[0, 1]\"\n",
        "print(nums[:2])"
      ]
    },
    {
      "cell_type": "code",
      "execution_count": 98,
      "metadata": {
        "id": "rhmdO9J2_Fr0",
        "outputId": "269e1f53-37d2-45f0-a85b-fe6cc4e7bdde",
        "colab": {
          "base_uri": "https://localhost:8080/"
        }
      },
      "outputs": [
        {
          "output_type": "stream",
          "name": "stdout",
          "text": [
            "[0, 1, 2, 3, 4]\n"
          ]
        }
      ],
      "source": [
        "# Get a slice of the whole list; prints [\"0, 1, 2, 3, 4]\"\n",
        "print(nums[:])"
      ]
    },
    {
      "cell_type": "code",
      "execution_count": 99,
      "metadata": {
        "id": "q5Nu0OdV_Fr0",
        "outputId": "f2b9981c-6092-4559-8cc8-f9f676bcfb15",
        "colab": {
          "base_uri": "https://localhost:8080/"
        }
      },
      "outputs": [
        {
          "output_type": "stream",
          "name": "stdout",
          "text": [
            "[0, 1, 8, 9, 4]\n"
          ]
        }
      ],
      "source": [
        "# Assign a new sublist to a slice; change nums into [0, 1, 8, 9, 4]\n",
        "nums[2:4] = [8, 9] \n",
        "print(nums)"
      ]
    },
    {
      "cell_type": "code",
      "execution_count": 100,
      "metadata": {
        "id": "C6PhWLqw_Fr1",
        "outputId": "2afbad6e-6d92-473a-8604-8bfa27ca5e29",
        "colab": {
          "base_uri": "https://localhost:8080/"
        }
      },
      "outputs": [
        {
          "output_type": "stream",
          "name": "stdout",
          "text": [
            "cat\n",
            "dog\n",
            "monkey\n"
          ]
        }
      ],
      "source": [
        "#############################################################\n",
        "# Loop & Enumerate\n",
        "#############################################################\n",
        "animals = ['cat', 'dog', 'monkey']\n",
        "\n",
        "# Loop over and print the elements of the list:\n",
        "for animal in animals:\n",
        "    print(animal)"
      ]
    },
    {
      "cell_type": "code",
      "source": [
        "for i in range(5):\n",
        "  print(i)"
      ],
      "metadata": {
        "colab": {
          "base_uri": "https://localhost:8080/"
        },
        "id": "eM1Gyruz4mW8",
        "outputId": "6e457946-fad6-4bcf-83a5-4bcf711280f4"
      },
      "execution_count": 101,
      "outputs": [
        {
          "output_type": "stream",
          "name": "stdout",
          "text": [
            "0\n",
            "1\n",
            "2\n",
            "3\n",
            "4\n"
          ]
        }
      ]
    },
    {
      "cell_type": "code",
      "execution_count": 102,
      "metadata": {
        "id": "sxf3eRIX_Fr1",
        "outputId": "8d494409-a358-4b33-81fc-4aef457f44ca",
        "colab": {
          "base_uri": "https://localhost:8080/"
        }
      },
      "outputs": [
        {
          "output_type": "stream",
          "name": "stdout",
          "text": [
            "1: cat\n",
            "2: dog\n",
            "3: monkey\n"
          ]
        }
      ],
      "source": [
        "# Loop over and print the index and value of each elements of the list:\n",
        "for idx, animal in enumerate(animals):\n",
        "    print('%d: %s' % (idx + 1, animal))"
      ]
    },
    {
      "cell_type": "code",
      "execution_count": 103,
      "metadata": {
        "id": "eGqg0a_P_Fr1",
        "outputId": "b73abd6b-4903-4d65-9040-21f581e6213d",
        "colab": {
          "base_uri": "https://localhost:8080/"
        }
      },
      "outputs": [
        {
          "output_type": "stream",
          "name": "stdout",
          "text": [
            "[0, 1, 4, 9, 16]\n"
          ]
        }
      ],
      "source": [
        "#############################################################\n",
        "# List comprehensions\n",
        "#############################################################\n",
        "nums = [0, 1, 2, 3, 4]\n",
        "squares = []\n",
        "for x in nums:\n",
        "    squares.append(x ** 2)\n",
        "print(squares)"
      ]
    },
    {
      "cell_type": "code",
      "execution_count": 104,
      "metadata": {
        "id": "HsR6thDv_Fr2",
        "outputId": "8679fbcf-bb3a-4bab-e073-853231e0ed5b",
        "colab": {
          "base_uri": "https://localhost:8080/"
        }
      },
      "outputs": [
        {
          "output_type": "stream",
          "name": "stdout",
          "text": [
            "[0, 1, 4, 9, 16]\n"
          ]
        }
      ],
      "source": [
        "# Make this code simpler using a list comprehension\n",
        "squares = [x ** 2 for x in nums]\n",
        "print(squares)"
      ]
    },
    {
      "cell_type": "code",
      "execution_count": 105,
      "metadata": {
        "id": "-IRBt0pi_Fr2",
        "outputId": "29169a21-41a7-4a0e-b145-0fe5930c586c",
        "colab": {
          "base_uri": "https://localhost:8080/"
        }
      },
      "outputs": [
        {
          "output_type": "stream",
          "name": "stdout",
          "text": [
            "[0, 4, 16]\n"
          ]
        }
      ],
      "source": [
        "# Make a list of squares of even numbers in the list\n",
        "# List comprehensions can also contain conditions\n",
        "even_squares = [x ** 2 for x in nums if x % 2 == 0]\n",
        "print(even_squares)"
      ]
    },
    {
      "cell_type": "markdown",
      "metadata": {
        "id": "sRpXGkyd_Fr2"
      },
      "source": [
        "### Dictionary\n",
        "A dictionary stores (key, value) pairs"
      ]
    },
    {
      "cell_type": "code",
      "execution_count": 107,
      "metadata": {
        "id": "7nMaRlG1_Fr2"
      },
      "outputs": [],
      "source": [
        "#############################################################\n",
        "# General Usage\n",
        "#############################################################\n",
        "# Create a dictionary containing the followings key:value pairs\n",
        "# cat:cute  /  dog:furry\n",
        "d = {'cat': 'cute', 'dog': 'furry'}"
      ]
    },
    {
      "cell_type": "code",
      "execution_count": 108,
      "metadata": {
        "scrolled": true,
        "id": "YZX-SjWI_Fr2",
        "outputId": "e4fa07c0-b4e6-402e-fd8c-88017e43c456",
        "colab": {
          "base_uri": "https://localhost:8080/"
        }
      },
      "outputs": [
        {
          "output_type": "stream",
          "name": "stdout",
          "text": [
            "cute\n"
          ]
        }
      ],
      "source": [
        "# print an entry 'cat' from a dictionary; prints 'cute'\n",
        "print(d['cat'])"
      ]
    },
    {
      "cell_type": "code",
      "execution_count": 109,
      "metadata": {
        "id": "ZBS4KGDz_Fr2",
        "colab": {
          "base_uri": "https://localhost:8080/"
        },
        "outputId": "c23ff1f8-81a2-4cc5-bd8e-9e1e96e9d8d9"
      },
      "outputs": [
        {
          "output_type": "stream",
          "name": "stdout",
          "text": [
            "{'cat': 'cute', 'dog': 'furry', 'fish': 'wet'}\n"
          ]
        }
      ],
      "source": [
        "# Add another key:value pair\n",
        "# fish:wet\n",
        "d['fish'] = 'wet'\n",
        "\n",
        "print(d)"
      ]
    },
    {
      "cell_type": "code",
      "execution_count": 110,
      "metadata": {
        "id": "zQEvHrSY_Fr3",
        "outputId": "67a3590b-884b-4a6b-cae0-fc759a681388",
        "colab": {
          "base_uri": "https://localhost:8080/"
        }
      },
      "outputs": [
        {
          "output_type": "stream",
          "name": "stdout",
          "text": [
            "wet\n",
            "N/A\n"
          ]
        }
      ],
      "source": [
        "# Get an element with a default; prints \"N/A\" if not exists\n",
        "# fish / monkey\n",
        "print(d.get('fish', 'N/A'))    \n",
        "print(d.get('monkey', 'N/A'))"
      ]
    },
    {
      "cell_type": "code",
      "source": [
        "print(d['monkey'])"
      ],
      "metadata": {
        "colab": {
          "base_uri": "https://localhost:8080/",
          "height": 176
        },
        "id": "A1PRkEa35IZQ",
        "outputId": "c504bc4b-cdee-4da4-fee1-71e9456ce540"
      },
      "execution_count": 111,
      "outputs": [
        {
          "output_type": "error",
          "ename": "KeyError",
          "evalue": "ignored",
          "traceback": [
            "\u001b[0;31m---------------------------------------------------------------------------\u001b[0m",
            "\u001b[0;31mKeyError\u001b[0m                                  Traceback (most recent call last)",
            "\u001b[0;32m<ipython-input-111-ef9bb4954edb>\u001b[0m in \u001b[0;36m<module>\u001b[0;34m()\u001b[0m\n\u001b[0;32m----> 1\u001b[0;31m \u001b[0mprint\u001b[0m\u001b[0;34m(\u001b[0m\u001b[0md\u001b[0m\u001b[0;34m[\u001b[0m\u001b[0;34m'monkey'\u001b[0m\u001b[0;34m]\u001b[0m\u001b[0;34m)\u001b[0m\u001b[0;34m\u001b[0m\u001b[0;34m\u001b[0m\u001b[0m\n\u001b[0m",
            "\u001b[0;31mKeyError\u001b[0m: 'monkey'"
          ]
        }
      ]
    },
    {
      "cell_type": "code",
      "execution_count": 112,
      "metadata": {
        "id": "stHWaXgV_Fr3",
        "outputId": "5645a3a8-07b5-4c20-9a4a-7b56566c0bdd",
        "colab": {
          "base_uri": "https://localhost:8080/"
        }
      },
      "outputs": [
        {
          "output_type": "stream",
          "name": "stdout",
          "text": [
            "{'cat': 'cute', 'dog': 'furry'}\n"
          ]
        }
      ],
      "source": [
        "# Remove 'fish' from the dictionary\n",
        "del d['fish']       \n",
        "print(d)"
      ]
    },
    {
      "cell_type": "code",
      "execution_count": 113,
      "metadata": {
        "id": "W4buQJVD_Fr3",
        "outputId": "c221d417-7bd1-4cd2-c5f9-8005fd31154c",
        "colab": {
          "base_uri": "https://localhost:8080/"
        }
      },
      "outputs": [
        {
          "output_type": "stream",
          "name": "stdout",
          "text": [
            "A person has 2 legs\n",
            "A cat has 4 legs\n",
            "A spider has 8 legs\n"
          ]
        }
      ],
      "source": [
        "#############################################################\n",
        "# Loop & Dictionary comprehensions\n",
        "#############################################################\n",
        "d = {'person': 2, 'cat': 4, 'spider': 8}\n",
        "\n",
        "# Loop over keys of the dictionary\n",
        "# Access the values with the keys\n",
        "for animal in d:\n",
        "    legs = d[animal]\n",
        "    print('A %s has %d legs' % (animal, legs))"
      ]
    },
    {
      "cell_type": "code",
      "execution_count": 115,
      "metadata": {
        "id": "UVyLrsOp_Fr3",
        "outputId": "2b222a26-f5b7-4d41-805e-e37f50cc66d3",
        "colab": {
          "base_uri": "https://localhost:8080/"
        }
      },
      "outputs": [
        {
          "output_type": "stream",
          "name": "stdout",
          "text": [
            "A person has 2 legs\n",
            "A cat has 4 legs\n",
            "A spider has 8 legs\n"
          ]
        }
      ],
      "source": [
        "# Loop over keys and values of the dictionary\n",
        "for animal, legs in d.items():\n",
        "    print('A %s has %d legs' % (animal, legs))"
      ]
    },
    {
      "cell_type": "code",
      "execution_count": 39,
      "metadata": {
        "id": "jQlaK2Mj_Fr3",
        "outputId": "cebbdbac-fec4-46da-de56-2c61daa0144d",
        "colab": {
          "base_uri": "https://localhost:8080/"
        }
      },
      "outputs": [
        {
          "output_type": "stream",
          "name": "stdout",
          "text": [
            "{0: 0, 2: 4, 4: 16}\n"
          ]
        }
      ],
      "source": [
        "# Make a dictionary of key:squares of even numbers in the list\n",
        "# Dictionary comprehensions can also contain conditions\n",
        "nums = [0, 1, 2, 3, 4]\n",
        "even_num_to_square = {x: x ** 2 for x in nums if x % 2 == 0}\n",
        "print(even_num_to_square)"
      ]
    },
    {
      "cell_type": "markdown",
      "metadata": {
        "id": "3gRLYBCr_Fr3"
      },
      "source": [
        "### Function\n",
        "Python functions are defined using the `def` keyword"
      ]
    },
    {
      "cell_type": "code",
      "source": [
        "def equation(x):\n",
        "  return x**2 + 4*x + 1\n",
        "\n",
        "for x in [0,1,2]:\n",
        "  print(equation(x))"
      ],
      "metadata": {
        "colab": {
          "base_uri": "https://localhost:8080/"
        },
        "id": "XFHux26MA8Cp",
        "outputId": "39af851b-3228-4b1f-c671-43d6bb77c293"
      },
      "execution_count": 116,
      "outputs": [
        {
          "output_type": "stream",
          "name": "stdout",
          "text": [
            "1\n",
            "6\n",
            "13\n"
          ]
        }
      ]
    },
    {
      "cell_type": "code",
      "execution_count": 117,
      "metadata": {
        "scrolled": false,
        "id": "c_vdeHp0_Fr3",
        "outputId": "dc216d4a-2c5a-4979-c59d-cab407e86e09",
        "colab": {
          "base_uri": "https://localhost:8080/"
        }
      },
      "outputs": [
        {
          "output_type": "stream",
          "name": "stdout",
          "text": [
            "negative\n",
            "zero\n",
            "positive\n"
          ]
        }
      ],
      "source": [
        "#############################################################\n",
        "# General Usage\n",
        "#############################################################\n",
        "# Define a function called sign with argument <x>\n",
        "# print 'positive' if x > 0\n",
        "# print 'negative' if x < 0\n",
        "# print 'zero' if x = 0\n",
        "def sign(x):\n",
        "    if x > 0:\n",
        "        return 'positive'\n",
        "    elif x < 0:\n",
        "        return 'negative'\n",
        "    else:\n",
        "        return 'zero'\n",
        "\n",
        "for x in [-1, 0, 1]:\n",
        "    print(sign(x))"
      ]
    },
    {
      "cell_type": "code",
      "execution_count": 118,
      "metadata": {
        "scrolled": true,
        "id": "gz0eLTil_Fr4",
        "outputId": "c0f2a898-68ee-45a6-ad01-aeb9a8d140e2",
        "colab": {
          "base_uri": "https://localhost:8080/"
        }
      },
      "outputs": [
        {
          "output_type": "stream",
          "name": "stdout",
          "text": [
            "Hello, Bob!\n",
            "HELLO, FRED\n"
          ]
        }
      ],
      "source": [
        "#############################################################\n",
        "# Optional keyword argument\n",
        "#############################################################\n",
        "# Define a function called hello takes\n",
        "# arguement <name>\n",
        "# optional argument <loud> with default value False\n",
        "# print \"HELLO, [name in large letter]\" if loud = True\n",
        "# print \"HELLO, [name in given form]\" if loud = False\n",
        "def hello(name, loud=False):\n",
        "    if loud:\n",
        "        print('HELLO, %s' % name.upper())\n",
        "    else:\n",
        "        print('Hello, %s!' % name)\n",
        "        \n",
        "hello('Bob')\n",
        "hello('Fred', loud=True)"
      ]
    },
    {
      "cell_type": "markdown",
      "metadata": {
        "id": "WQM7dEsO_Fr4"
      },
      "source": [
        "### Class\n",
        "Python classes are defined using the `class` keyword"
      ]
    },
    {
      "cell_type": "code",
      "execution_count": 43,
      "metadata": {
        "id": "SWLebNZw_Fr4",
        "outputId": "6398bb3c-3c85-4370-eeda-41cb908e81b0",
        "colab": {
          "base_uri": "https://localhost:8080/"
        }
      },
      "outputs": [
        {
          "output_type": "stream",
          "name": "stdout",
          "text": [
            "Hello, Fred\n",
            "HELLO, FRED!\n"
          ]
        }
      ],
      "source": [
        "#############################################################\n",
        "# General Usage\n",
        "#############################################################\n",
        "# Define a function called Greeter\n",
        "# initialize its variable <name> with default value \"Alice\"\n",
        "# Define its function <greet> say hello as in the Function example\n",
        "class Greeter:\n",
        "    def __init__(self, name = 'Alice'):\n",
        "        self.name = name  \n",
        "\n",
        "    def greet(self, loud=False):\n",
        "        if loud:\n",
        "            print('HELLO, %s!' % self.name.upper())\n",
        "        else:\n",
        "            print('Hello, %s' % self.name)\n",
        "\n",
        "g1 = Greeter('Fred')  \n",
        "g1.greet()            \n",
        "g1.greet(loud=True)"
      ]
    },
    {
      "cell_type": "code",
      "execution_count": 44,
      "metadata": {
        "id": "7Hq5SNX6_Fr4",
        "outputId": "6395ee7b-ef8e-456b-decd-8785d777704e",
        "colab": {
          "base_uri": "https://localhost:8080/"
        }
      },
      "outputs": [
        {
          "output_type": "stream",
          "name": "stdout",
          "text": [
            "Hello, Alice\n",
            "HELLO, ALICE!\n"
          ]
        }
      ],
      "source": [
        "g2 = Greeter()  \n",
        "g2.greet()            \n",
        "g2.greet(loud=True)"
      ]
    },
    {
      "cell_type": "markdown",
      "metadata": {
        "id": "09uEjxrZ_Fr4"
      },
      "source": [
        "## 2. Numpy"
      ]
    },
    {
      "cell_type": "code",
      "execution_count": 45,
      "metadata": {
        "id": "n-i7R0h9_Fr4"
      },
      "outputs": [],
      "source": [
        "import numpy as np"
      ]
    },
    {
      "cell_type": "markdown",
      "metadata": {
        "id": "svdPJ6nl_Fr4"
      },
      "source": [
        "### Array\n",
        "A numpy array is a grid of values, all of the same type, and is indexed by a tuple of nonnegative integers."
      ]
    },
    {
      "cell_type": "code",
      "execution_count": 46,
      "metadata": {
        "id": "kSsBItlo_Fr4",
        "outputId": "24b4ba5f-d2f8-4168-bd31-fe43b4c003be",
        "colab": {
          "base_uri": "https://localhost:8080/"
        }
      },
      "outputs": [
        {
          "output_type": "stream",
          "name": "stdout",
          "text": [
            "[[0. 0.]\n",
            " [0. 0.]]\n"
          ]
        }
      ],
      "source": [
        "# Create an 2-by-2 array of all zeros \n",
        "a = np.zeros((2,2))\n",
        "print(a)"
      ]
    },
    {
      "cell_type": "code",
      "execution_count": 47,
      "metadata": {
        "id": "YjiCWmVe_Fr5",
        "outputId": "e84d7ea7-59df-40cf-bb11-9eb9f38d59ea",
        "colab": {
          "base_uri": "https://localhost:8080/"
        }
      },
      "outputs": [
        {
          "output_type": "stream",
          "name": "stdout",
          "text": [
            "[[1. 1.]\n",
            " [1. 1.]]\n"
          ]
        }
      ],
      "source": [
        "# Create an 2-by-2 array of all ones \n",
        "a = np.ones((2,2))\n",
        "print(a)"
      ]
    },
    {
      "cell_type": "code",
      "execution_count": 48,
      "metadata": {
        "id": "s87p32i7_Fr5",
        "outputId": "7ecafab9-8bd8-481e-a8d9-6fe20c27eec3",
        "colab": {
          "base_uri": "https://localhost:8080/"
        }
      },
      "outputs": [
        {
          "output_type": "stream",
          "name": "stdout",
          "text": [
            "[[0.57269444 0.93288846]\n",
            " [0.64755385 0.74903103]]\n"
          ]
        }
      ],
      "source": [
        "# Create an 2-by-2 array with random numbers\n",
        "a = np.random.random((2,2))\n",
        "print(a)"
      ]
    },
    {
      "cell_type": "code",
      "execution_count": 49,
      "metadata": {
        "id": "l1pgwkD5_Fr5",
        "outputId": "28f162b0-ab84-4447-b7d0-726eac4c8911",
        "colab": {
          "base_uri": "https://localhost:8080/"
        }
      },
      "outputs": [
        {
          "output_type": "stream",
          "name": "stdout",
          "text": [
            "[1 2 3 4 5 6]\n"
          ]
        }
      ],
      "source": [
        "# Create an 1-by-6 array with elements 1 to 6\n",
        "a = np.array([1, 2,3 , 4, 5, 6])\n",
        "print(a)"
      ]
    },
    {
      "cell_type": "code",
      "execution_count": 50,
      "metadata": {
        "id": "fc66gd3E_Fr5",
        "outputId": "94f724eb-48d6-4de2-b654-bce06fe042a2",
        "colab": {
          "base_uri": "https://localhost:8080/"
        }
      },
      "outputs": [
        {
          "output_type": "stream",
          "name": "stdout",
          "text": [
            "[[1 2 3]\n",
            " [4 5 6]]\n"
          ]
        }
      ],
      "source": [
        "#Create a rank 2 array with elements 1 to 6\n",
        "b = np.array([[1,2,3],[4,5,6]])\n",
        "print(b)"
      ]
    },
    {
      "cell_type": "code",
      "execution_count": 51,
      "metadata": {
        "scrolled": true,
        "id": "tkuTOZOF_Fr5",
        "outputId": "f9af30ac-0135-4e2f-ca5b-4ab4d9f71677",
        "colab": {
          "base_uri": "https://localhost:8080/"
        }
      },
      "outputs": [
        {
          "output_type": "stream",
          "name": "stdout",
          "text": [
            "(2, 3)\n"
          ]
        }
      ],
      "source": [
        "# print shape of the array\n",
        "print(b.shape)"
      ]
    },
    {
      "cell_type": "code",
      "execution_count": 52,
      "metadata": {
        "id": "1fmky1yz_Fr5",
        "outputId": "77d4fbe2-0492-4c16-a747-c741d8653b96",
        "colab": {
          "base_uri": "https://localhost:8080/"
        }
      },
      "outputs": [
        {
          "output_type": "stream",
          "name": "stdout",
          "text": [
            "4\n"
          ]
        }
      ],
      "source": [
        "# print the element in the 1 in 1st index and 0 in 2nd index\n",
        "print(b[1][0])"
      ]
    },
    {
      "cell_type": "markdown",
      "metadata": {
        "id": "4c33PO7f_Fr5"
      },
      "source": [
        "### Array indexing\n",
        "Since arrays may be multidimensional, you must specify a slice for each dimension of the array"
      ]
    },
    {
      "cell_type": "code",
      "execution_count": 53,
      "metadata": {
        "id": "SLJZE7Xk_Fr5",
        "outputId": "139da942-a6a3-46ec-d752-3f1a4c530433",
        "colab": {
          "base_uri": "https://localhost:8080/"
        }
      },
      "outputs": [
        {
          "output_type": "stream",
          "name": "stdout",
          "text": [
            "[[ 1  2  3  4]\n",
            " [ 5  6  7  8]\n",
            " [ 9 10 11 12]]\n"
          ]
        }
      ],
      "source": [
        "# Create an 3-by-4 array with elements 1 to 12\n",
        "# Use reshape\n",
        "a = np.arange(1,13).reshape(3,4)\n",
        "print(a)"
      ]
    },
    {
      "cell_type": "code",
      "source": [
        "print(a[0])\n",
        "print(a[:,0])\n",
        "\n",
        "print(a[0,0])\n",
        "print(a[2,2])\n",
        "print(a[:,:])\n"
      ],
      "metadata": {
        "colab": {
          "base_uri": "https://localhost:8080/"
        },
        "id": "dNjex3L_yJ9p",
        "outputId": "318fde32-acd6-4adc-d718-6890e78cf224"
      },
      "execution_count": 54,
      "outputs": [
        {
          "output_type": "stream",
          "name": "stdout",
          "text": [
            "[1 2 3 4]\n",
            "[1 5 9]\n",
            "1\n",
            "11\n",
            "[[ 1  2  3  4]\n",
            " [ 5  6  7  8]\n",
            " [ 9 10 11 12]]\n"
          ]
        }
      ]
    },
    {
      "cell_type": "code",
      "execution_count": 55,
      "metadata": {
        "scrolled": false,
        "id": "BEjEUW5d_Fr6",
        "outputId": "7f56eb43-7350-43dc-d7b0-ed588d40a6ed",
        "colab": {
          "base_uri": "https://localhost:8080/"
        }
      },
      "outputs": [
        {
          "output_type": "stream",
          "name": "stdout",
          "text": [
            "[[2 3]\n",
            " [6 7]]\n",
            "0 0\n",
            "2 2\n"
          ]
        }
      ],
      "source": [
        "# Use slicing to pull out the subarray consisting of the first 2 rows and columns 1 and 2; \n",
        "# and modify [0, 0] element of the array b into 0\n",
        "b = a[:2, 1:3]\n",
        "print(b)\n",
        "b[0,0] = 0\n",
        "print(b[0,0], a[0, 1])\n",
        "b[0,0] = 2 # reset\n",
        "print(b[0,0], a[0, 1])\n"
      ]
    },
    {
      "cell_type": "code",
      "execution_count": 56,
      "metadata": {
        "id": "Xklt1XTw_Fr6",
        "outputId": "41428ede-aad5-4cfa-9132-d244da57ba9b",
        "colab": {
          "base_uri": "https://localhost:8080/"
        }
      },
      "outputs": [
        {
          "output_type": "stream",
          "name": "stdout",
          "text": [
            "[[2 3]\n",
            " [6 7]]\n",
            "0 2\n"
          ]
        }
      ],
      "source": [
        "# Instead create an array with the subarray consisting of the first 2 rows and columns 1 and 2; \n",
        "# and modify [0, 0] element of the array b into 0\n",
        "b = np.array(a[:2, 1:3])\n",
        "print(b)\n",
        "b[0,0] = 0\n",
        "print(b[0,0], a[0, 1])"
      ]
    },
    {
      "cell_type": "code",
      "execution_count": 57,
      "metadata": {
        "id": "-eCRjlO3_Fr6",
        "outputId": "61e68973-c859-437e-8674-0b41f52c331f",
        "colab": {
          "base_uri": "https://localhost:8080/"
        }
      },
      "outputs": [
        {
          "output_type": "stream",
          "name": "stdout",
          "text": [
            "[ 1  7 10]\n",
            "[ 1  7 10]\n"
          ]
        }
      ],
      "source": [
        "# Get the [0, 2, 0, 1] indices from each row of a matrix: [0,0], [1,2], [2,1]\n",
        "indices = np.array([0, 2, 1])\n",
        "print(a[np.arange(3), indices])\n",
        "\n",
        "print(a[[0,1,2], [0,2,1]])"
      ]
    },
    {
      "cell_type": "code",
      "source": [
        "np.arange(3)"
      ],
      "metadata": {
        "colab": {
          "base_uri": "https://localhost:8080/"
        },
        "id": "VR4FCh0fyvLt",
        "outputId": "8cab4be4-67de-427c-85e4-b6af53ce7e21"
      },
      "execution_count": 58,
      "outputs": [
        {
          "output_type": "execute_result",
          "data": {
            "text/plain": [
              "array([0, 1, 2])"
            ]
          },
          "metadata": {},
          "execution_count": 58
        }
      ]
    },
    {
      "cell_type": "code",
      "execution_count": 59,
      "metadata": {
        "id": "V54UjDPI_Fr6",
        "outputId": "b8dccf11-363d-4211-d4dc-0c3e4b796de2",
        "colab": {
          "base_uri": "https://localhost:8080/"
        }
      },
      "outputs": [
        {
          "output_type": "stream",
          "name": "stdout",
          "text": [
            "[[11  2  3  4]\n",
            " [ 5  6 17  8]\n",
            " [ 9 20 11 12]]\n"
          ]
        }
      ],
      "source": [
        "# Add 10 to the [0, 2, 0, 1] indices from each row of a matrix\n",
        "a[np.arange(3), indices] += 10\n",
        "print(a)"
      ]
    },
    {
      "cell_type": "markdown",
      "metadata": {
        "id": "mwipgqnj_Fr6"
      },
      "source": [
        "### Array math\n",
        "Basic mathematical functions operate elementwise on arrays, and are available both as operator overloads and as functions in the numpy module"
      ]
    },
    {
      "cell_type": "code",
      "execution_count": 119,
      "metadata": {
        "id": "HIiwKagw_Fr6",
        "outputId": "2275d5b9-1950-44a1-825c-89e968230d6f",
        "colab": {
          "base_uri": "https://localhost:8080/"
        }
      },
      "outputs": [
        {
          "output_type": "stream",
          "name": "stdout",
          "text": [
            "[[ 5. 12.]\n",
            " [21. 32.]]\n"
          ]
        }
      ],
      "source": [
        "#############################################################\n",
        "# General Usage\n",
        "#############################################################\n",
        "x = np.array([[1,2],[3,4]], dtype=np.float64)\n",
        "y = np.array([[5,6],[7,8]], dtype=np.float64)\n",
        "\n",
        "# Elementwise product of x and y\n",
        "z = x * y\n",
        "print(z)"
      ]
    },
    {
      "cell_type": "code",
      "execution_count": 61,
      "metadata": {
        "id": "wo4LFkev_Fr6",
        "outputId": "de940504-abf9-450d-c469-f9019b3b25bd",
        "colab": {
          "base_uri": "https://localhost:8080/"
        }
      },
      "outputs": [
        {
          "output_type": "stream",
          "name": "stdout",
          "text": [
            "[[19. 22.]\n",
            " [43. 50.]]\n"
          ]
        }
      ],
      "source": [
        "# Matrix product of x and y\n",
        "z = np.dot(x, y)\n",
        "print(z)"
      ]
    },
    {
      "cell_type": "code",
      "source": [
        "print(x@y)"
      ],
      "metadata": {
        "colab": {
          "base_uri": "https://localhost:8080/"
        },
        "id": "4KWFpkl5zjgm",
        "outputId": "3daa3881-ccf7-4989-a003-3d2a0fc56c6a"
      },
      "execution_count": 62,
      "outputs": [
        {
          "output_type": "stream",
          "name": "stdout",
          "text": [
            "[[19. 22.]\n",
            " [43. 50.]]\n"
          ]
        }
      ]
    },
    {
      "cell_type": "code",
      "source": [
        "# Transpose\n",
        "print(x)\n",
        "print(x.T)"
      ],
      "metadata": {
        "colab": {
          "base_uri": "https://localhost:8080/"
        },
        "id": "0oKfzzgczpRK",
        "outputId": "929f6528-060d-4a7f-efde-056e3827f750"
      },
      "execution_count": 63,
      "outputs": [
        {
          "output_type": "stream",
          "name": "stdout",
          "text": [
            "[[1. 2.]\n",
            " [3. 4.]]\n",
            "[[1. 3.]\n",
            " [2. 4.]]\n"
          ]
        }
      ]
    },
    {
      "cell_type": "code",
      "execution_count": 64,
      "metadata": {
        "id": "fs4Wz0hA_Fr6",
        "outputId": "df2cb296-0bd6-4860-d2cc-fd9b057e48ed",
        "colab": {
          "base_uri": "https://localhost:8080/"
        }
      },
      "outputs": [
        {
          "output_type": "stream",
          "name": "stdout",
          "text": [
            "10.0\n"
          ]
        }
      ],
      "source": [
        "# Compute sum of all elements in x\n",
        "z = np.sum(x)\n",
        "print(z)"
      ]
    },
    {
      "cell_type": "code",
      "execution_count": 65,
      "metadata": {
        "id": "oi2pPXiw_Fr6",
        "outputId": "54919a5a-533b-44d2-d852-4584798a8d9e",
        "colab": {
          "base_uri": "https://localhost:8080/"
        }
      },
      "outputs": [
        {
          "output_type": "stream",
          "name": "stdout",
          "text": [
            "[4. 6.]\n"
          ]
        }
      ],
      "source": [
        "# Compute sum of each column in x;\n",
        "z = np.sum(x, axis=0)\n",
        "print(z)"
      ]
    },
    {
      "cell_type": "code",
      "execution_count": 66,
      "metadata": {
        "id": "Zncfl5gF_Fr7",
        "outputId": "e1801abe-5b92-467f-afdf-d197b6a89089",
        "colab": {
          "base_uri": "https://localhost:8080/"
        }
      },
      "outputs": [
        {
          "output_type": "stream",
          "name": "stdout",
          "text": [
            "[3. 7.]\n"
          ]
        }
      ],
      "source": [
        "# Compute sum of each row in x\n",
        "z = np.sum(x, axis=1)\n",
        "print(z)"
      ]
    },
    {
      "cell_type": "code",
      "execution_count": 120,
      "metadata": {
        "id": "ihnRCGRz_Fr7",
        "outputId": "a08c9603-3e0a-4728-ccec-d43f80facf96",
        "colab": {
          "base_uri": "https://localhost:8080/"
        }
      },
      "outputs": [
        {
          "output_type": "stream",
          "name": "stdout",
          "text": [
            "[[ 2  2  4]\n",
            " [ 5  5  7]\n",
            " [ 8  8 10]\n",
            " [11 11 13]]\n",
            "i= 0\n",
            "i= 1\n",
            "i= 2\n",
            "i= 3\n",
            "[[ 2  2  4]\n",
            " [ 5  5  7]\n",
            " [ 8  8 10]\n",
            " [11 11 13]]\n",
            "[[ 1  2  3]\n",
            " [ 4  5  6]\n",
            " [ 7  8  9]\n",
            " [10 11 12]]\n"
          ]
        }
      ],
      "source": [
        "#############################################################\n",
        "# Broadcasting\n",
        "#############################################################\n",
        "x = np.array([[1,2,3], [4,5,6], [7,8,9], [10, 11, 12]])\n",
        "v = np.array([1, 0, 1])\n",
        "y = np.empty_like(x) \n",
        "\n",
        "print(y)\n",
        "# Add the vector v to each row of the matrix x with an explicit loop\n",
        "for i in range(4):\n",
        "    print('i=',i)\n",
        "    y[i, :] = x[i, :] + v\n",
        "print(y)\n",
        "\n",
        "print(x)"
      ]
    },
    {
      "cell_type": "code",
      "execution_count": 68,
      "metadata": {
        "id": "OOvTT7vA_Fr7",
        "outputId": "145560e1-9c58-4878-df68-efc9ffd6108f",
        "colab": {
          "base_uri": "https://localhost:8080/"
        }
      },
      "outputs": [
        {
          "output_type": "stream",
          "name": "stdout",
          "text": [
            "[1 0 1]\n",
            "[[1 0 1]\n",
            " [1 0 1]\n",
            " [1 0 1]\n",
            " [1 0 1]]\n",
            "[[ 2  2  4]\n",
            " [ 5  5  7]\n",
            " [ 8  8 10]\n",
            " [11 11 13]]\n"
          ]
        }
      ],
      "source": [
        "# Add the vector v to each row of the matrix x with stacking v multiple times\n",
        "vv = np.tile(v, (4, 1))\n",
        "print(v)\n",
        "\n",
        "print(vv)\n",
        "\n",
        "y = x + vv\n",
        "print(y)"
      ]
    },
    {
      "cell_type": "code",
      "execution_count": 69,
      "metadata": {
        "id": "02yEtekw_Fr7",
        "outputId": "fffabadd-7e41-4f7d-b59c-34de5f5047c1",
        "colab": {
          "base_uri": "https://localhost:8080/"
        }
      },
      "outputs": [
        {
          "output_type": "stream",
          "name": "stdout",
          "text": [
            "[[ 2  2  4]\n",
            " [ 5  5  7]\n",
            " [ 8  8 10]\n",
            " [11 11 13]]\n"
          ]
        }
      ],
      "source": [
        "# Add the vector v to each row of the matrix x with broadcasting\n",
        "y = x + v\n",
        "print(y)"
      ]
    },
    {
      "cell_type": "code",
      "execution_count": 70,
      "metadata": {
        "id": "x7wHDaAx_Fr7",
        "outputId": "9f2956a6-0e12-4ccf-91fd-f004d7517acc",
        "colab": {
          "base_uri": "https://localhost:8080/"
        }
      },
      "outputs": [
        {
          "output_type": "stream",
          "name": "stdout",
          "text": [
            "[[ 2  4  6]\n",
            " [ 8 10 12]\n",
            " [14 16 18]\n",
            " [20 22 24]]\n"
          ]
        }
      ],
      "source": [
        "# Multiply matrix x by a constant 2:\n",
        "z = x * 2\n",
        "print(z)"
      ]
    },
    {
      "cell_type": "markdown",
      "metadata": {
        "id": "Q6uCbnt__Fr7"
      },
      "source": [
        "## 3. Matplotlib"
      ]
    },
    {
      "cell_type": "markdown",
      "metadata": {
        "id": "y6E116WC_Fr7"
      },
      "source": [
        "Matplotlib is a plotting library. In this section give a brief introduction to the `matplotlib.pyplot` module."
      ]
    },
    {
      "cell_type": "code",
      "execution_count": 71,
      "metadata": {
        "id": "D4EGMwpa_Fr7"
      },
      "outputs": [],
      "source": [
        "import matplotlib.pyplot as plt\n",
        "\n",
        "#By running this special iPython command, we will be displaying plots inline:\n",
        "%matplotlib inline"
      ]
    },
    {
      "cell_type": "markdown",
      "metadata": {
        "id": "C1F2Wnaw_Fr7"
      },
      "source": [
        "### Plotting\n",
        "The most important function in `matplotlib` is plot, which allows you to plot 2D data. Here is a simple example:"
      ]
    },
    {
      "cell_type": "code",
      "source": [
        "x = np.arange(-8,4,0.1)\n",
        "print(x)"
      ],
      "metadata": {
        "colab": {
          "base_uri": "https://localhost:8080/"
        },
        "id": "GERgkVyrBQOp",
        "outputId": "11ad46d7-aa8e-4cfc-b9d7-04f40b80a14e"
      },
      "execution_count": 72,
      "outputs": [
        {
          "output_type": "stream",
          "name": "stdout",
          "text": [
            "[-8.00000000e+00 -7.90000000e+00 -7.80000000e+00 -7.70000000e+00\n",
            " -7.60000000e+00 -7.50000000e+00 -7.40000000e+00 -7.30000000e+00\n",
            " -7.20000000e+00 -7.10000000e+00 -7.00000000e+00 -6.90000000e+00\n",
            " -6.80000000e+00 -6.70000000e+00 -6.60000000e+00 -6.50000000e+00\n",
            " -6.40000000e+00 -6.30000000e+00 -6.20000000e+00 -6.10000000e+00\n",
            " -6.00000000e+00 -5.90000000e+00 -5.80000000e+00 -5.70000000e+00\n",
            " -5.60000000e+00 -5.50000000e+00 -5.40000000e+00 -5.30000000e+00\n",
            " -5.20000000e+00 -5.10000000e+00 -5.00000000e+00 -4.90000000e+00\n",
            " -4.80000000e+00 -4.70000000e+00 -4.60000000e+00 -4.50000000e+00\n",
            " -4.40000000e+00 -4.30000000e+00 -4.20000000e+00 -4.10000000e+00\n",
            " -4.00000000e+00 -3.90000000e+00 -3.80000000e+00 -3.70000000e+00\n",
            " -3.60000000e+00 -3.50000000e+00 -3.40000000e+00 -3.30000000e+00\n",
            " -3.20000000e+00 -3.10000000e+00 -3.00000000e+00 -2.90000000e+00\n",
            " -2.80000000e+00 -2.70000000e+00 -2.60000000e+00 -2.50000000e+00\n",
            " -2.40000000e+00 -2.30000000e+00 -2.20000000e+00 -2.10000000e+00\n",
            " -2.00000000e+00 -1.90000000e+00 -1.80000000e+00 -1.70000000e+00\n",
            " -1.60000000e+00 -1.50000000e+00 -1.40000000e+00 -1.30000000e+00\n",
            " -1.20000000e+00 -1.10000000e+00 -1.00000000e+00 -9.00000000e-01\n",
            " -8.00000000e-01 -7.00000000e-01 -6.00000000e-01 -5.00000000e-01\n",
            " -4.00000000e-01 -3.00000000e-01 -2.00000000e-01 -1.00000000e-01\n",
            " -2.84217094e-14  1.00000000e-01  2.00000000e-01  3.00000000e-01\n",
            "  4.00000000e-01  5.00000000e-01  6.00000000e-01  7.00000000e-01\n",
            "  8.00000000e-01  9.00000000e-01  1.00000000e+00  1.10000000e+00\n",
            "  1.20000000e+00  1.30000000e+00  1.40000000e+00  1.50000000e+00\n",
            "  1.60000000e+00  1.70000000e+00  1.80000000e+00  1.90000000e+00\n",
            "  2.00000000e+00  2.10000000e+00  2.20000000e+00  2.30000000e+00\n",
            "  2.40000000e+00  2.50000000e+00  2.60000000e+00  2.70000000e+00\n",
            "  2.80000000e+00  2.90000000e+00  3.00000000e+00  3.10000000e+00\n",
            "  3.20000000e+00  3.30000000e+00  3.40000000e+00  3.50000000e+00\n",
            "  3.60000000e+00  3.70000000e+00  3.80000000e+00  3.90000000e+00]\n"
          ]
        }
      ]
    },
    {
      "cell_type": "code",
      "source": [
        "y = equation(x)\n",
        "plt.plot(x,y)"
      ],
      "metadata": {
        "colab": {
          "base_uri": "https://localhost:8080/",
          "height": 284
        },
        "id": "5gykolvTBfJc",
        "outputId": "01c7f8f5-db1a-470a-ab6d-92e0a6002a1d"
      },
      "execution_count": 73,
      "outputs": [
        {
          "output_type": "execute_result",
          "data": {
            "text/plain": [
              "[<matplotlib.lines.Line2D at 0x7f2e48de7410>]"
            ]
          },
          "metadata": {},
          "execution_count": 73
        },
        {
          "output_type": "display_data",
          "data": {
            "image/png": "[encoded data removed]",
            "text/plain": [
              "<Figure size 432x288 with 1 Axes>"
            ]
          },
          "metadata": {
            "needs_background": "light"
          }
        }
      ]
    },
    {
      "cell_type": "code",
      "source": [
        "plt.plot(x, equation(x))"
      ],
      "metadata": {
        "colab": {
          "base_uri": "https://localhost:8080/",
          "height": 284
        },
        "id": "kF09ncHdBuxV",
        "outputId": "6d65165e-f3f5-41f6-8d40-fc8c129ecc55"
      },
      "execution_count": 74,
      "outputs": [
        {
          "output_type": "execute_result",
          "data": {
            "text/plain": [
              "[<matplotlib.lines.Line2D at 0x7f2e48d8ad50>]"
            ]
          },
          "metadata": {},
          "execution_count": 74
        },
        {
          "output_type": "display_data",
          "data": {
            "image/png": "[encoded data removed]",
            "text/plain": [
              "<Figure size 432x288 with 1 Axes>"
            ]
          },
          "metadata": {
            "needs_background": "light"
          }
        }
      ]
    },
    {
      "cell_type": "code",
      "execution_count": 75,
      "metadata": {
        "id": "ILZaII32_Fr7"
      },
      "outputs": [],
      "source": [
        "# Compute the x and y coordinates for points on a sine curve\n",
        "x = np.arange(0, 3 * np.pi, 0.3)\n",
        "y = np.sin(x)"
      ]
    },
    {
      "cell_type": "code",
      "execution_count": 76,
      "metadata": {
        "colab": {
          "base_uri": "https://localhost:8080/",
          "height": 284
        },
        "id": "7wMemgwa_Fr8",
        "outputId": "da13240f-c5fa-4dc6-f386-d3e4e38d5711"
      },
      "outputs": [
        {
          "output_type": "execute_result",
          "data": {
            "text/plain": [
              "[<matplotlib.lines.Line2D at 0x7f2e488bf9d0>]"
            ]
          },
          "metadata": {},
          "execution_count": 76
        },
        {
          "output_type": "display_data",
          "data": {
            "image/png": "[encoded data removed]",
            "text/plain": [
              "<Figure size 432x288 with 1 Axes>"
            ]
          },
          "metadata": {
            "needs_background": "light"
          }
        }
      ],
      "source": [
        "# Plot the points using matplotlib\n",
        "plt.plot(x, y, 'o-', c='b'    )"
      ]
    },
    {
      "cell_type": "code",
      "execution_count": 77,
      "metadata": {
        "colab": {
          "base_uri": "https://localhost:8080/",
          "height": 284
        },
        "id": "uxDCvkee_Fr8",
        "outputId": "33c56740-5a95-422e-f107-5e9bf54dc2ea"
      },
      "outputs": [
        {
          "output_type": "execute_result",
          "data": {
            "text/plain": [
              "[<matplotlib.lines.Line2D at 0x7f2e4882af10>]"
            ]
          },
          "metadata": {},
          "execution_count": 77
        },
        {
          "output_type": "display_data",
          "data": {
            "image/png": "[encoded data removed]",
            "text/plain": [
              "<Figure size 432x288 with 1 Axes>"
            ]
          },
          "metadata": {
            "needs_background": "light"
          }
        }
      ],
      "source": [
        "# Plot the points using matplotlib\n",
        "plt.plot(x, y, 'o')"
      ]
    },
    {
      "cell_type": "code",
      "execution_count": 78,
      "metadata": {
        "colab": {
          "base_uri": "https://localhost:8080/",
          "height": 284
        },
        "id": "0ouXOwZ7_Fr8",
        "outputId": "bbcaf978-7a8f-4946-fcc6-6c4de660f4c3"
      },
      "outputs": [
        {
          "output_type": "execute_result",
          "data": {
            "text/plain": [
              "[<matplotlib.lines.Line2D at 0x7f2e487a24d0>]"
            ]
          },
          "metadata": {},
          "execution_count": 78
        },
        {
          "output_type": "display_data",
          "data": {
            "image/png": "[encoded data removed]",
            "text/plain": [
              "<Figure size 432x288 with 1 Axes>"
            ]
          },
          "metadata": {
            "needs_background": "light"
          }
        }
      ],
      "source": [
        "# Plot the points using matplotlib\n",
        "plt.plot(x, y, '-o')"
      ]
    },
    {
      "cell_type": "code",
      "execution_count": 79,
      "metadata": {
        "colab": {
          "base_uri": "https://localhost:8080/",
          "height": 314
        },
        "id": "kVvhwKWo_Fr8",
        "outputId": "1f02c11e-848f-4f27-ce7d-ac78890528a1"
      },
      "outputs": [
        {
          "output_type": "execute_result",
          "data": {
            "text/plain": [
              "<matplotlib.legend.Legend at 0x7f2e4aeb0e90>"
            ]
          },
          "metadata": {},
          "execution_count": 79
        },
        {
          "output_type": "display_data",
          "data": {
            "image/png": "[encoded data removed]",
            "text/plain": [
              "<Figure size 432x288 with 1 Axes>"
            ]
          },
          "metadata": {
            "needs_background": "light"
          }
        }
      ],
      "source": [
        "y_sin = np.sin(x)\n",
        "y_cos = np.cos(x)\n",
        "\n",
        "# Plot the points using matplotlib\n",
        "plt.plot(x, y_sin)\n",
        "plt.plot(x, y_cos)\n",
        "plt.xlabel('x axis label')\n",
        "plt.ylabel('y axis label')\n",
        "plt.title('Sine and Cosine')\n",
        "plt.legend(['Sine', 'Cosine'])"
      ]
    },
    {
      "cell_type": "markdown",
      "metadata": {
        "id": "vatjdiXL_Fr8"
      },
      "source": [
        "### Subplots \n",
        "You can plot different things in the same figure using the subplot function. Here is an example:"
      ]
    },
    {
      "cell_type": "code",
      "execution_count": 80,
      "metadata": {
        "colab": {
          "base_uri": "https://localhost:8080/",
          "height": 281
        },
        "id": "Zi_1KHct_Fr8",
        "outputId": "26306a9e-7f05-4725-9384-00a3580319e0"
      },
      "outputs": [
        {
          "output_type": "display_data",
          "data": {
            "image/png": "[encoded data removed]",
            "text/plain": [
              "<Figure size 432x288 with 2 Axes>"
            ]
          },
          "metadata": {
            "needs_background": "light"
          }
        }
      ],
      "source": [
        "# Compute the x and y coordinates for points on sine and cosine curves\n",
        "x = np.arange(0, 3 * np.pi, 0.1)\n",
        "y_sin = np.sin(x)\n",
        "y_cos = np.cos(x)\n",
        "\n",
        "# Set up a subplot grid that has height 2 and width 1,\n",
        "# and set the first such subplot as active, and make the first plot.\n",
        "plt.subplot(2, 1, 1)\n",
        "plt.plot(x, y_sin)\n",
        "plt.title('Sine')\n",
        "\n",
        "# Set the second subplot as active, and make the second plot.\n",
        "plt.subplot(2, 1, 2)\n",
        "plt.plot(x, y_cos)\n",
        "plt.title('Cosine')\n",
        "\n",
        "# Show the figure.\n",
        "plt.show()"
      ]
    },
    {
      "cell_type": "markdown",
      "source": [
        "## Homework"
      ],
      "metadata": {
        "id": "lUwICI2rB9yg"
      }
    },
    {
      "cell_type": "markdown",
      "source": [
        "- 1번 코드 복습 + 내용 바꿔가며 실행하고 익혀보기\n",
        "- 각자 원하는 식으로 간단한 그래프 1개씩 그려보기: Code로 제공된 그래프는 제외, exponential, log 등 사용해볼 것 권장   \n",
        "- 다음 시간에 자신의 화면 공유해서 의도와 결과 보여주기 있음"
      ],
      "metadata": {
        "id": "sqoEid_GB_O2"
      }
    }
  ],
  "metadata": {
    "kernelspec": {
      "display_name": "Python 3",
      "name": "python3"
    },
    "language_info": {
      "name": "python"
    },
    "colab": {
      "name": "1_Basics_of_Python_Numpy_Matplotlib.ipynb",
      "provenance": [],
      "collapsed_sections": []
    }
  },
  "nbformat": 4,
  "nbformat_minor": 0
}